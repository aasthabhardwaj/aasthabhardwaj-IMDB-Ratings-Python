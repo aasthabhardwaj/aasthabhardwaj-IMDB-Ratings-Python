{
 "cells": [
  {
   "cell_type": "code",
   "execution_count": null,
   "id": "3a641eaa",
   "metadata": {},
   "outputs": [],
   "source": [
    "# importing the module\n",
    "import imdb\n",
    "\n",
    "# creating instance of IMDb\n",
    "Imdb = imdb.IMDb()\n",
    "\n",
    "\n",
    "def getRatings():\n",
    "    \n",
    "    #asking for input\n",
    "    getMovieName = input(\"Enter keyword for movie you looking for: \\n\")\n",
    "\n",
    "    # getting the movieID and movieName according to the input \n",
    "    movieName = Imdb.search_movie(getMovieName)\n",
    "\n",
    "\n",
    "    if(movieName):\n",
    "        #Printing the movieId and movieName output\n",
    "        for movie in movieName:\n",
    "            print(movie.movieID,movie)\n",
    "        \n",
    "        try: \n",
    "            \n",
    "            #input for the movieID\n",
    "            getMovieCode = input(\"Enter the Movie ID for the movie you looking for: \\n\")\n",
    "    \n",
    "            query = Imdb.get_movie(getMovieCode)\n",
    "    \n",
    "            #extract data of the movie according to the movieCode\n",
    "\n",
    "            #Printing the movie as well as its IMDB Rating\n",
    "            print(\"Ratings for the Movie < {} > is: {}\".format(query.data[\"title\"], query.data[\"rating\"]))\n",
    "        \n",
    "        except Exception as ee:\n",
    "             print(\"Wrong Movie ID entered\")\n",
    "\n",
    "      #If the Movie entered is not in the data\n",
    "    else:\n",
    "        print(\"Movie name out of range\")\n",
    "\n",
    "getRatings()"
   ]
  },
  {
   "cell_type": "code",
   "execution_count": null,
   "id": "5668323b",
   "metadata": {},
   "outputs": [],
   "source": []
  },
  {
   "cell_type": "code",
   "execution_count": null,
   "id": "df7f2291",
   "metadata": {},
   "outputs": [],
   "source": []
  }
 ],
 "metadata": {
  "kernelspec": {
   "display_name": "Python 3 (ipykernel)",
   "language": "python",
   "name": "python3"
  },
  "language_info": {
   "codemirror_mode": {
    "name": "ipython",
    "version": 3
   },
   "file_extension": ".py",
   "mimetype": "text/x-python",
   "name": "python",
   "nbconvert_exporter": "python",
   "pygments_lexer": "ipython3",
   "version": "3.7.6"
  }
 },
 "nbformat": 4,
 "nbformat_minor": 5
}
